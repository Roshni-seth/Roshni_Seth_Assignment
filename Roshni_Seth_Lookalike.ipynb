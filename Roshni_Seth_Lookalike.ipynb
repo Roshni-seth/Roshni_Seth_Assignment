{
 "cells": [
  {
   "cell_type": "code",
   "execution_count": 9,
   "id": "206b7d27-d0c5-40bc-ba1c-bf2bddcedc11",
   "metadata": {},
   "outputs": [],
   "source": [
    "import pandas as pd\n",
    "from sklearn.preprocessing import LabelEncoder\n",
    "from sklearn.metrics.pairwise import cosine_similarity\n",
    "\n",
    "# Load datasets\n",
    "customers = pd.read_csv(\"Customers.csv\")\n",
    "transactions = pd.read_csv(\"Transactions.csv\")\n",
    "products = pd.read_csv(\"Products.csv\")\n",
    "\n",
    "# Merge datasets\n",
    "transactions_products = transactions.merge(products, on=\"ProductID\", how=\"inner\")\n",
    "customer_data = transactions_products.merge(customers, on=\"CustomerID\", how=\"inner\")\n",
    "\n",
    "# Feature Engineering\n",
    "# Aggregate transaction data per customer\n",
    "customer_features = customer_data.groupby(\"CustomerID\").agg(\n",
    "    TotalSpend=(\"TotalValue\", \"sum\"),\n",
    "    TotalTransactions=(\"TransactionID\", \"count\"),\n",
    "    AvgTransactionValue=(\"TotalValue\", \"mean\"),\n",
    "    FavoriteCategory=(\"Category\", lambda x: x.mode()[0]),  # Most frequent category\n",
    "    UniqueProducts=(\"ProductID\", \"nunique\")\n",
    ").reset_index()\n",
    "\n",
    "# Add encoded region and signup date\n",
    "le_region = LabelEncoder()\n",
    "customers[\"RegionEncoded\"] = le_region.fit_transform(customers[\"Region\"])\n",
    "customer_features = customer_features.merge(customers[[\"CustomerID\", \"RegionEncoded\", \"SignupDate\"]], on=\"CustomerID\")\n",
    "\n",
    "# Encode categorical features\n",
    "le_category = LabelEncoder()\n",
    "customer_features[\"FavoriteCategoryEncoded\"] = le_category.fit_transform(customer_features[\"FavoriteCategory\"])\n",
    "\n",
    "# Drop non-numeric columns for similarity calculation\n",
    "customer_features_numeric = customer_features.drop(columns=[\"CustomerID\", \"FavoriteCategory\", \"SignupDate\"])\n",
    "\n"
   ]
  },
  {
   "cell_type": "code",
   "execution_count": 11,
   "id": "28543755-d8a9-459e-a4e6-b53245fc5419",
   "metadata": {},
   "outputs": [],
   "source": [
    "import json\n",
    "\n",
    "# Ensure CustomerID is treated as a string\n",
    "customers[\"CustomerID\"] = customers[\"CustomerID\"].astype(str)\n",
    "transactions[\"CustomerID\"] = transactions[\"CustomerID\"].astype(str)\n",
    "products[\"ProductID\"] = products[\"ProductID\"].astype(str)\n",
    "\n",
    "# Updated recommend_similar_customers function\n",
    "def recommend_similar_customers(input_customer_id, top_n=3):\n",
    "    input_vector = customer_features_numeric[customer_features[\"CustomerID\"] == input_customer_id].values\n",
    "    similarity_scores = cosine_similarity(input_vector, customer_features_numeric.values).flatten()\n",
    "    customer_features[\"SimilarityScore\"] = similarity_scores\n",
    "    recommendations = customer_features[customer_features[\"CustomerID\"] != input_customer_id].nlargest(top_n, \"SimilarityScore\")\n",
    "    return recommendations[[\"CustomerID\", \"SimilarityScore\"]].to_dict(orient=\"records\")\n",
    "\n",
    "# Initialize an empty list to store lookalike mappings\n",
    "lookalike_data = []\n",
    "\n",
    "# Generate lookalikes for the first 20 customers (C0001 to C0020)\n",
    "for cust_id in [f\"C{i:04}\" for i in range(1, 21)]:\n",
    "    top_lookalikes = recommend_similar_customers(cust_id)\n",
    "    lookalike_data.append({\n",
    "        \"cust_id\": cust_id,\n",
    "        \"lookalikes\": top_lookalikes\n",
    "    })\n",
    "\n",
    "# Convert the list to a DataFrame\n",
    "lookalike_df = pd.DataFrame(lookalike_data)\n",
    "\n",
    "# Save as a CSV file\n",
    "lookalike_df.to_csv(\"Roshni_Seth_Lookalike.csv\", index=False)\n"
   ]
  }
 ],
 "metadata": {
  "kernelspec": {
   "display_name": "Python 3 (ipykernel)",
   "language": "python",
   "name": "python3"
  },
  "language_info": {
   "codemirror_mode": {
    "name": "ipython",
    "version": 3
   },
   "file_extension": ".py",
   "mimetype": "text/x-python",
   "name": "python",
   "nbconvert_exporter": "python",
   "pygments_lexer": "ipython3",
   "version": "3.11.5"
  }
 },
 "nbformat": 4,
 "nbformat_minor": 5
}
